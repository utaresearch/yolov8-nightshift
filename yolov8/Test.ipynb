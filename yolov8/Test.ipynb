{
 "cells": [
  {
   "cell_type": "code",
   "execution_count": null,
   "id": "bf7fd556",
   "metadata": {
    "vscode": {
     "languageId": "plaintext"
    }
   },
   "outputs": [],
   "source": [
    "from ultralytics import YOLO"
   ]
  },
  {
   "cell_type": "code",
   "execution_count": null,
   "id": "0aec76c5",
   "metadata": {
    "vscode": {
     "languageId": "plaintext"
    }
   },
   "outputs": [],
   "source": [
    "model = YOLO(\"yolov8n.pt\")  # or yolov8s.pt, yolov8x.pt"
   ]
  },
  {
   "cell_type": "code",
   "execution_count": null,
   "id": "0b63f852",
   "metadata": {
    "vscode": {
     "languageId": "plaintext"
    }
   },
   "outputs": [],
   "source": [
    "IN_DIR = './datasets/images_rgb_train/data/'\n",
    "IN_FILE = IN_DIR+'video-2BARff2EP7ZWkiF7n-frame-000432-pEpYGJT3PDodWjHHN.jpg'\n",
    "\n",
    "results = model( IN_FILE )  # or a folder\n",
    "results[0].show()  # display result with boxes"
   ]
  },
  {
   "cell_type": "code",
   "execution_count": null,
   "id": "953e4d80",
   "metadata": {
    "vscode": {
     "languageId": "plaintext"
    }
   },
   "outputs": [],
   "source": [
    "IN_DIR = './datasets/images_thermal_train/data/'\n",
    "IN_FILE = IN_DIR+'video-zNFzcc9wW8XB4QwTa-frame-011398-BnmWrvMFmpcrPWRdk.jpg'\n",
    "\n",
    "results = model( IN_FILE )  # or a folder\n",
    "results[0].show()  # display result with boxes"
   ]
  }
 ],
 "metadata": {
  "language_info": {
   "name": "python"
  }
 },
 "nbformat": 4,
 "nbformat_minor": 5
}
